{
 "cells": [
  {
   "cell_type": "code",
   "execution_count": null,
   "id": "8c67e153",
   "metadata": {},
   "outputs": [],
   "source": [
    "from langchain_community.document_loaders import TextLoader\n",
    "from langchain_text_splitters import CharacterTextSplitter\n",
    "from langchain_openai import OpenAIEmbeddings\n",
    "from langchain_chroma import Chroma"
   ]
  },
  {
   "cell_type": "code",
   "execution_count": null,
   "id": "4e0a1fdc",
   "metadata": {},
   "outputs": [],
   "source": [
    "from dotenv import load_dotenv\n",
    "load_dotenv()"
   ]
  },
  {
   "cell_type": "code",
   "execution_count": null,
   "id": "55bc2ba8",
   "metadata": {},
   "outputs": [],
   "source": [
    "import pandas as pd\n",
    "\n",
    "books = pd.read_csv(\"books_cleaned.csv\")"
   ]
  },
  {
   "cell_type": "code",
   "execution_count": null,
   "id": "28b3e45d",
   "metadata": {},
   "outputs": [],
   "source": [
    "books.shape"
   ]
  },
  {
   "cell_type": "code",
   "execution_count": null,
   "id": "331dede4",
   "metadata": {},
   "outputs": [],
   "source": [
    "books['tagged_description'].to_csv('tagged_description.txt', index=False, sep='\\n', header=False)"
   ]
  },
  {
   "cell_type": "code",
   "execution_count": null,
   "id": "47b0b3c2",
   "metadata": {},
   "outputs": [],
   "source": [
    "import os\n",
    "\n",
    "file_path = \"tagged_description.txt\"\n",
    "\n",
    "raw_documents = TextLoader(file_path, encoding=\"utf-8\").load()\n",
    "text_splitter = CharacterTextSplitter(chunk_size=0, chunk_overlap=0, separator=\"\\n\")\n",
    "documents = text_splitter.split_documents(raw_documents)"
   ]
  },
  {
   "cell_type": "code",
   "execution_count": null,
   "id": "2fc263ba",
   "metadata": {},
   "outputs": [],
   "source": [
    "documents[0]"
   ]
  },
  {
   "cell_type": "code",
   "execution_count": null,
   "id": "427fd244",
   "metadata": {},
   "outputs": [],
   "source": [
    "db_books = Chroma.from_documents(\n",
    "    documents,\n",
    "    OpenAIEmbeddings(),\n",
    ")"
   ]
  },
  {
   "cell_type": "code",
   "execution_count": null,
   "id": "5f4476a6",
   "metadata": {},
   "outputs": [],
   "source": [
    "query = \"A book to teach children about nature\"\n",
    "docs = db_books.similarity_search(query, k=3)\n",
    "docs"
   ]
  },
  {
   "cell_type": "code",
   "execution_count": null,
   "id": "faaf7618",
   "metadata": {},
   "outputs": [],
   "source": [
    "books[books['isbn13'] == int(docs[0].page_content.split(\" \")[0].strip())]"
   ]
  },
  {
   "cell_type": "code",
   "execution_count": null,
   "id": "3a893785",
   "metadata": {},
   "outputs": [],
   "source": [
    "def retrieve_semantic_recommendations(query, top_k=3) -> pd.DataFrame:\n",
    "    recs = db_books.similarity_search(query, k=top_k)\n",
    "\n",
    "    books_list = []\n",
    "    for i in range(0, len(recs)):\n",
    "        books_list += [int(recs[i].page_content.strip('\"').split()[0].strip())]\n",
    "    return books[books['isbn13'].isin(books_list)].head(top_k)"
   ]
  },
  {
   "cell_type": "code",
   "execution_count": null,
   "id": "6a557732",
   "metadata": {},
   "outputs": [],
   "source": [
    "retrieve_semantic_recommendations(query)"
   ]
  }
 ],
 "metadata": {
  "kernelspec": {
   "display_name": "myenv",
   "language": "python",
   "name": "python3"
  },
  "language_info": {
   "codemirror_mode": {
    "name": "ipython",
    "version": 3
   },
   "file_extension": ".py",
   "mimetype": "text/x-python",
   "name": "python",
   "nbconvert_exporter": "python",
   "pygments_lexer": "ipython3",
   "version": "3.10.0"
  }
 },
 "nbformat": 4,
 "nbformat_minor": 5
}
